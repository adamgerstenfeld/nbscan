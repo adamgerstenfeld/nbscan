{
 "cells": [
  {
   "cell_type": "code",
   "execution_count": 1,
   "id": "df0e1a1a",
   "metadata": {},
   "outputs": [
    {
     "name": "stdout",
     "output_type": "stream",
     "text": [
      "Collecting git+https://github.com/conery/nbscan.git\n",
      "  Cloning https://github.com/conery/nbscan.git to c:\\users\\adam.gerstenfeld\\appdata\\local\\temp\\pip-req-build-ilcj0tdj\n"
     ]
    },
    {
     "name": "stderr",
     "output_type": "stream",
     "text": [
      "  Running command git clone --filter=blob:none --quiet https://github.com/conery/nbscan.git 'C:\\Users\\adam.gerstenfeld\\AppData\\Local\\Temp\\pip-req-build-ilcj0tdj'\n",
      "  fatal: unable to access 'https://github.com/conery/nbscan.git/': SSL certificate problem: unable to get local issuer certificate\n",
      "  error: subprocess-exited-with-error\n",
      "  \n",
      "  git clone --filter=blob:none --quiet https://github.com/conery/nbscan.git 'C:\\Users\\adam.gerstenfeld\\AppData\\Local\\Temp\\pip-req-build-ilcj0tdj' did not run successfully.\n",
      "  exit code: 128\n",
      "  \n",
      "  See above for output.\n",
      "  \n",
      "  note: This error originates from a subprocess, and is likely not a problem with pip.\n",
      "error: subprocess-exited-with-error\n",
      "\n",
      "git clone --filter=blob:none --quiet https://github.com/conery/nbscan.git 'C:\\Users\\adam.gerstenfeld\\AppData\\Local\\Temp\\pip-req-build-ilcj0tdj' did not run successfully.\n",
      "exit code: 128\n",
      "\n",
      "See above for output.\n",
      "\n",
      "note: This error originates from a subprocess, and is likely not a problem with pip.\n"
     ]
    }
   ],
   "source": [
    "!pip3 install git+https://github.com/conery/nbscan.git"
   ]
  },
  {
   "cell_type": "code",
   "execution_count": null,
   "id": "861063cf",
   "metadata": {},
   "outputs": [],
   "source": [
    "import os, re\n",
    "import pandas as pd\n",
    "import numpy as np\n",
    "\n",
    "# nbscan functions\n",
    "from nbscan import build_file_list, scan_files"
   ]
  },
  {
   "cell_type": "code",
   "execution_count": null,
   "id": "1536002b",
   "metadata": {},
   "outputs": [],
   "source": [
    "df = assignmentAlgorithm(dfIn=df, nameTreatment='career map', whichStrata=which_careermap, targetTreat=n_treat_careermap)\n"
   ]
  }
 ],
 "metadata": {
  "kernelspec": {
   "display_name": "Python 3 (ipykernel)",
   "language": "python",
   "name": "python3"
  },
  "language_info": {
   "codemirror_mode": {
    "name": "ipython",
    "version": 3
   },
   "file_extension": ".py",
   "mimetype": "text/x-python",
   "name": "python",
   "nbconvert_exporter": "python",
   "pygments_lexer": "ipython3",
   "version": "3.10.6"
  }
 },
 "nbformat": 4,
 "nbformat_minor": 5
}
